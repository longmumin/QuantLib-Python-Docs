{
 "cells": [
  {
   "cell_type": "markdown",
   "metadata": {},
   "source": [
    "# Vanilla Swap"
   ]
  },
  {
   "cell_type": "code",
   "execution_count": 1,
   "metadata": {},
   "outputs": [],
   "source": [
    "import QuantLib as ql"
   ]
  },
  {
   "cell_type": "markdown",
   "metadata": {},
   "source": [
    "Create a relinkable yield term structure handle and build a curve"
   ]
  },
  {
   "cell_type": "code",
   "execution_count": 3,
   "metadata": {},
   "outputs": [],
   "source": [
    "yts = ql.RelinkableYieldTermStructureHandle()\n",
    "\n",
    "instruments = [\n",
    "    ('depo', '6M', 0.025),\n",
    "    ('swap', '1Y', 0.031),\n",
    "    ('swap', '2Y', 0.032),\n",
    "    ('swap', '3Y', 0.035)\n",
    "]\n",
    "\n",
    "helpers = ql.RateHelperVector()\n",
    "index = ql.Euribor6M(yts)\n",
    "for instrument, tenor, rate in instruments:\n",
    "    if instrument == 'depo':\n",
    "        helpers.append( ql.DepositRateHelper(rate, index) )\n",
    "    if instrument == 'fra':\n",
    "        monthsToStart = ql.Period(tenor).length()\n",
    "        helpers.append( ql.FraRateHelper(rate, monthsToStart, index) )\n",
    "    if instrument == 'swap':\n",
    "        swapIndex = ql.EuriborSwapIsdaFixA(ql.Period(tenor))\n",
    "        helpers.append( ql.SwapRateHelper(rate, swapIndex))\n",
    "curve = ql.PiecewiseLogCubicDiscount(2, ql.TARGET(), helpers, ql.Actual365Fixed())\n"
   ]
  },
  {
   "cell_type": "markdown",
   "metadata": {},
   "source": [
    "Link the built curve to the relinkable yield term structure handle and build a swap pricing engine"
   ]
  },
  {
   "cell_type": "code",
   "execution_count": 4,
   "metadata": {},
   "outputs": [],
   "source": [
    "yts.linkTo(curve)\n",
    "engine = ql.DiscountingSwapEngine(yts)\n"
   ]
  },
  {
   "cell_type": "markdown",
   "metadata": {},
   "source": [
    "Build a vanilla swap and provide a pricing engine"
   ]
  },
  {
   "cell_type": "code",
   "execution_count": 5,
   "metadata": {},
   "outputs": [],
   "source": [
    "tenor = ql.Period('2y')\n",
    "fixedRate = 0.05\n",
    "forwardStart = ql.Period(\"2D\")\n",
    "\n",
    "swap = ql.MakeVanillaSwap(tenor, index, fixedRate, forwardStart, nominal=10e6, pricingEngine=engine)\n"
   ]
  },
  {
   "cell_type": "markdown",
   "metadata": {},
   "source": [
    "Get the fair rate and NPV"
   ]
  },
  {
   "cell_type": "code",
   "execution_count": 6,
   "metadata": {
    "tags": []
   },
   "outputs": [
    {
     "name": "stdout",
     "output_type": "stream",
     "text": [
      "Fair swap rate: 3.205%\n",
      "Swap NPV: -343,527.872\n"
     ]
    }
   ],
   "source": [
    "fairRate = swap.fairRate()\n",
    "npv = swap.NPV()\n",
    "\n",
    "print(f\"Fair swap rate: {fairRate:.3%}\")\n",
    "print(f\"Swap NPV: {npv:,.3f}\")"
   ]
  },
  {
   "cell_type": "code",
   "execution_count": 7,
   "metadata": {},
   "outputs": [
    {
     "data": {
      "text/html": [
       "<div>\n",
       "<style scoped>\n",
       "    .dataframe tbody tr th:only-of-type {\n",
       "        vertical-align: middle;\n",
       "    }\n",
       "\n",
       "    .dataframe tbody tr th {\n",
       "        vertical-align: top;\n",
       "    }\n",
       "\n",
       "    .dataframe thead th {\n",
       "        text-align: right;\n",
       "    }\n",
       "</style>\n",
       "<table border=\"1\" class=\"dataframe\">\n",
       "  <thead>\n",
       "    <tr style=\"text-align: right;\">\n",
       "      <th></th>\n",
       "      <th>date</th>\n",
       "      <th>amount</th>\n",
       "    </tr>\n",
       "  </thead>\n",
       "  <tbody>\n",
       "    <tr>\n",
       "      <th>0</th>\n",
       "      <td>January 19th, 2024</td>\n",
       "      <td>128,288.65</td>\n",
       "    </tr>\n",
       "    <tr>\n",
       "      <th>1</th>\n",
       "      <td>July 19th, 2024</td>\n",
       "      <td>180,166.24</td>\n",
       "    </tr>\n",
       "    <tr>\n",
       "      <th>2</th>\n",
       "      <td>January 20th, 2025</td>\n",
       "      <td>166,690.49</td>\n",
       "    </tr>\n",
       "    <tr>\n",
       "      <th>3</th>\n",
       "      <td>July 21st, 2025</td>\n",
       "      <td>162,876.45</td>\n",
       "    </tr>\n",
       "  </tbody>\n",
       "</table>\n",
       "</div>"
      ],
      "text/plain": [
       "                 date     amount\n",
       "0  January 19th, 2024 128,288.65\n",
       "1     July 19th, 2024 180,166.24\n",
       "2  January 20th, 2025 166,690.49\n",
       "3     July 21st, 2025 162,876.45"
      ]
     },
     "metadata": {},
     "output_type": "display_data"
    }
   ],
   "source": [
    "import pandas as pd\n",
    "pd.options.display.float_format = \"{:,.2f}\".format\n",
    "\n",
    "cashflows = pd.DataFrame({\n",
    "    'date': cf.date(),\n",
    "    'amount': cf.amount()\n",
    "    } for cf in swap.leg(1))\n",
    "display(cashflows)"
   ]
  },
  {
   "cell_type": "code",
   "execution_count": 8,
   "metadata": {},
   "outputs": [
    {
     "data": {
      "text/html": [
       "<div>\n",
       "<style scoped>\n",
       "    .dataframe tbody tr th:only-of-type {\n",
       "        vertical-align: middle;\n",
       "    }\n",
       "\n",
       "    .dataframe tbody tr th {\n",
       "        vertical-align: top;\n",
       "    }\n",
       "\n",
       "    .dataframe thead th {\n",
       "        text-align: right;\n",
       "    }\n",
       "</style>\n",
       "<table border=\"1\" class=\"dataframe\">\n",
       "  <thead>\n",
       "    <tr style=\"text-align: right;\">\n",
       "      <th></th>\n",
       "      <th>nominal</th>\n",
       "      <th>accrualStartDate</th>\n",
       "      <th>accrualEndDate</th>\n",
       "      <th>rate</th>\n",
       "      <th>amount</th>\n",
       "    </tr>\n",
       "  </thead>\n",
       "  <tbody>\n",
       "    <tr>\n",
       "      <th>0</th>\n",
       "      <td>10,000,000.00</td>\n",
       "      <td>2023-07-19</td>\n",
       "      <td>2024-01-19</td>\n",
       "      <td>0.03</td>\n",
       "      <td>128,288.65</td>\n",
       "    </tr>\n",
       "    <tr>\n",
       "      <th>1</th>\n",
       "      <td>10,000,000.00</td>\n",
       "      <td>2024-01-19</td>\n",
       "      <td>2024-07-19</td>\n",
       "      <td>0.04</td>\n",
       "      <td>180,166.24</td>\n",
       "    </tr>\n",
       "    <tr>\n",
       "      <th>2</th>\n",
       "      <td>10,000,000.00</td>\n",
       "      <td>2024-07-19</td>\n",
       "      <td>2025-01-20</td>\n",
       "      <td>0.03</td>\n",
       "      <td>166,690.49</td>\n",
       "    </tr>\n",
       "    <tr>\n",
       "      <th>3</th>\n",
       "      <td>10,000,000.00</td>\n",
       "      <td>2025-01-20</td>\n",
       "      <td>2025-07-21</td>\n",
       "      <td>0.03</td>\n",
       "      <td>162,876.45</td>\n",
       "    </tr>\n",
       "  </tbody>\n",
       "</table>\n",
       "</div>"
      ],
      "text/plain": [
       "        nominal accrualStartDate accrualEndDate  rate     amount\n",
       "0 10,000,000.00       2023-07-19     2024-01-19  0.03 128,288.65\n",
       "1 10,000,000.00       2024-01-19     2024-07-19  0.04 180,166.24\n",
       "2 10,000,000.00       2024-07-19     2025-01-20  0.03 166,690.49\n",
       "3 10,000,000.00       2025-01-20     2025-07-21  0.03 162,876.45"
      ]
     },
     "metadata": {},
     "output_type": "display_data"
    }
   ],
   "source": [
    "cashflows = pd.DataFrame({\n",
    "    'nominal': cf.nominal(),\n",
    "    'accrualStartDate': cf.accrualStartDate().ISO(),\n",
    "    'accrualEndDate': cf.accrualEndDate().ISO(),\n",
    "    'rate': cf.rate(),\n",
    "    'amount': cf.amount()\n",
    "    } for cf in map(ql.as_coupon, swap.leg(1)))\n",
    "display(cashflows)"
   ]
  },
  {
   "cell_type": "code",
   "execution_count": null,
   "metadata": {},
   "outputs": [],
   "source": []
  }
 ],
 "metadata": {
  "kernelspec": {
   "display_name": "Python 3",
   "language": "python",
   "name": "python3"
  },
  "language_info": {
   "codemirror_mode": {
    "name": "ipython",
    "version": 3
   },
   "file_extension": ".py",
   "mimetype": "text/x-python",
   "name": "python",
   "nbconvert_exporter": "python",
   "pygments_lexer": "ipython3",
   "version": "3.10.4"
  },
  "orig_nbformat": 2
 },
 "nbformat": 4,
 "nbformat_minor": 2
}
