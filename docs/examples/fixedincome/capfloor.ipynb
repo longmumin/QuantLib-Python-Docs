{
 "cells": [
  {
   "cell_type": "markdown",
   "metadata": {},
   "source": [
    "# Pricing Caps\n",
    "In this example we will explore how to:\n",
    "1. Price caps by settings a constant volatility and only using a single curve for discounting and forecasting.\n",
    "2. Price caps by using two curves, one for forecasting and one for discounting.\n",
    "3. Price caps by having an input volatility surface."
   ]
  },
  {
   "cell_type": "code",
   "execution_count": 1,
   "metadata": {},
   "outputs": [],
   "source": [
    "import QuantLib as ql \n",
    "import pandas as pd"
   ]
  },
  {
   "cell_type": "markdown",
   "metadata": {},
   "source": [
    "We initialize by setting the valuation date and defining our forecasting and discounting curve to be used in pricing."
   ]
  },
  {
   "cell_type": "code",
   "execution_count": 2,
   "metadata": {},
   "outputs": [],
   "source": [
    "# Begin by setting the valuation date of which the cap and the floor should be priced at\n",
    "ql.Settings.instance().evaluationDate = ql.Date(1, 1, 2022)\n",
    "# Then we initialize the curve we want to use for discounting and forecasting\n",
    "discount_factors = [1, 0.965, 0.94]  # discount factors\n",
    "dates = [\n",
    "    ql.Date(1, 1, 2022),\n",
    "    ql.Date(1, 1, 2023),\n",
    "    ql.Date(1, 1, 2024),\n",
    "]  # maturity dates of the discount factors\n",
    "day_counter = ql.Actual360()\n",
    "# Note that we will not strip a curve here, but simply use the discount factors and the dates defined above\n",
    "# By default QuantLib DiscountCurve will log linearly interpolate between the points.\n",
    "discount_curve = ql.DiscountCurve(dates, discount_factors, day_counter)\n",
    "# The curve will note be linked in case we want to update the quotes later on\n",
    "discount_handle = ql.YieldTermStructureHandle(discount_curve)\n"
   ]
  },
  {
   "cell_type": "markdown",
   "metadata": {},
   "source": [
    "The next step involves creating an schedule of dates for which the optionlets of the caps will mature at. "
   ]
  },
  {
   "cell_type": "code",
   "execution_count": 3,
   "metadata": {},
   "outputs": [],
   "source": [
    "start_date = ql.Date(1, 1, 2022)\n",
    "end_date = start_date + ql.Period(12, ql.Months)\n",
    "\n",
    "# We define the schedule of the cap and floor\n",
    "schedule = ql.Schedule(\n",
    "    start_date,                 # Start date of payments\n",
    "    end_date,                   # End date of payments\n",
    "    ql.Period(3, ql.Months),    # frequency of payments\n",
    "    ql.Sweden(),                # Calendar for adjusting for holidays\n",
    "    ql.ModifiedFollowing,       # Business convention for adjusting for holidays\n",
    "    ql.ModifiedFollowing,       # Business convention for adjusting for holidays\n",
    "    ql.DateGeneration.Backward, # Date generation rule for generating the schedule\n",
    "    False,                      # End of month rule\n",
    ")\n",
    "\n",
    "# Create a custom index to track the payments correctly, specifically fixing days.\n",
    "custom_discount_index= ql.IborIndex(\n",
    "    \"MyIndex\",\n",
    "    ql.Period(\"3m\"),\n",
    "    0,\n",
    "    ql.SEKCurrency(),\n",
    "    ql.Sweden(),\n",
    "    ql.ModifiedFollowing,\n",
    "    False,\n",
    "    ql.Actual360(),\n",
    "    discount_handle,\n",
    ")\n"
   ]
  },
  {
   "cell_type": "markdown",
   "metadata": {},
   "source": [
    "The last step is to define the pricing engine to use for pricing. We can choose between:\n",
    "\n",
    "- BlackCapFloorEngine\n",
    "- BachelierEngine\n",
    "- AnalyticCapFloorEngine\n",
    "- TreeCapFloorEngine\n",
    "\n",
    "In this example we will precede with BlackCapFloorEngine."
   ]
  },
  {
   "cell_type": "code",
   "execution_count": 4,
   "metadata": {},
   "outputs": [
    {
     "name": "stdout",
     "output_type": "stream",
     "text": [
      "10831.583434218297\n"
     ]
    }
   ],
   "source": [
    "# As you have noted by now, the pricing of caps and floors involves creating a floating leg\n",
    "ibor_leg_discount = ql.IborLeg([1e6], schedule, custom_discount_index)\n",
    "strike = [0.025]\n",
    "cap_discount = ql.Cap(ibor_leg_discount, strike)\n",
    "\n",
    "# The final step is to define a volatility surface, we will use a constant volatility for simplicity\n",
    "volatility = ql.QuoteHandle(ql.SimpleQuote(0.5))\n",
    "\n",
    "# Input our discounting and forecasting curve together with our volatility surface to the engine\n",
    "engine = ql.BlackCapFloorEngine(discount_handle, volatility)\n",
    "cap_discount.setPricingEngine(engine)\n",
    "print(cap_discount.NPV())"
   ]
  },
  {
   "cell_type": "markdown",
   "metadata": {},
   "source": [
    "At last we want to show our results of the seperate optionlets."
   ]
  },
  {
   "cell_type": "code",
   "execution_count": 5,
   "metadata": {},
   "outputs": [
    {
     "data": {
      "text/html": [
       "<div>\n",
       "<style scoped>\n",
       "    .dataframe tbody tr th:only-of-type {\n",
       "        vertical-align: middle;\n",
       "    }\n",
       "\n",
       "    .dataframe tbody tr th {\n",
       "        vertical-align: top;\n",
       "    }\n",
       "\n",
       "    .dataframe thead th {\n",
       "        text-align: right;\n",
       "    }\n",
       "</style>\n",
       "<table border=\"1\" class=\"dataframe\">\n",
       "  <thead>\n",
       "    <tr style=\"text-align: right;\">\n",
       "      <th></th>\n",
       "      <th>price</th>\n",
       "      <th>discount_factor</th>\n",
       "      <th>cap_rate</th>\n",
       "      <th>atm_forward</th>\n",
       "      <th>std_dev</th>\n",
       "      <th>accrual_start</th>\n",
       "      <th>accrual_end</th>\n",
       "    </tr>\n",
       "  </thead>\n",
       "  <tbody>\n",
       "    <tr>\n",
       "      <th>0</th>\n",
       "      <td>2493.450264</td>\n",
       "      <td>0.991254</td>\n",
       "      <td>0.025</td>\n",
       "      <td>0.035290</td>\n",
       "      <td>0.037012</td>\n",
       "      <td>January 3rd, 2022</td>\n",
       "      <td>April 1st, 2022</td>\n",
       "    </tr>\n",
       "    <tr>\n",
       "      <th>1</th>\n",
       "      <td>2625.359083</td>\n",
       "      <td>0.982488</td>\n",
       "      <td>0.025</td>\n",
       "      <td>0.035296</td>\n",
       "      <td>0.248282</td>\n",
       "      <td>April 1st, 2022</td>\n",
       "      <td>July 1st, 2022</td>\n",
       "    </tr>\n",
       "    <tr>\n",
       "      <th>2</th>\n",
       "      <td>2846.309041</td>\n",
       "      <td>0.973515</td>\n",
       "      <td>0.025</td>\n",
       "      <td>0.035301</td>\n",
       "      <td>0.352097</td>\n",
       "      <td>July 1st, 2022</td>\n",
       "      <td>October 3rd, 2022</td>\n",
       "    </tr>\n",
       "    <tr>\n",
       "      <th>3</th>\n",
       "      <td>2866.465047</td>\n",
       "      <td>0.964931</td>\n",
       "      <td>0.025</td>\n",
       "      <td>0.035193</td>\n",
       "      <td>0.434000</td>\n",
       "      <td>October 3rd, 2022</td>\n",
       "      <td>January 2nd, 2023</td>\n",
       "    </tr>\n",
       "  </tbody>\n",
       "</table>\n",
       "</div>"
      ],
      "text/plain": [
       "         price  discount_factor  cap_rate  atm_forward   std_dev  \\\n",
       "0  2493.450264         0.991254     0.025     0.035290  0.037012   \n",
       "1  2625.359083         0.982488     0.025     0.035296  0.248282   \n",
       "2  2846.309041         0.973515     0.025     0.035301  0.352097   \n",
       "3  2866.465047         0.964931     0.025     0.035193  0.434000   \n",
       "\n",
       "       accrual_start        accrual_end  \n",
       "0  January 3rd, 2022    April 1st, 2022  \n",
       "1    April 1st, 2022     July 1st, 2022  \n",
       "2     July 1st, 2022  October 3rd, 2022  \n",
       "3  October 3rd, 2022  January 2nd, 2023  "
      ]
     },
     "execution_count": 5,
     "metadata": {},
     "output_type": "execute_result"
    }
   ],
   "source": [
    "schedule_dates = schedule.dates()\n",
    "\n",
    "display_result = lambda _ : pd.DataFrame({\n",
    "    'price': _.optionletsPrice(),\n",
    "    'discount_factor': _.optionletsDiscountFactor(),\n",
    "    'cap_rate': _.capRates(),\n",
    "    'atm_forward': _.optionletsAtmForward(),\n",
    "    'std_dev': _.optionletsStdDev(),\n",
    "    'accrual_start': schedule_dates[:-1],\n",
    "    'accrual_end' : schedule_dates[1:]\n",
    "})\n",
    "\n",
    "display_result(cap_discount)"
   ]
  },
  {
   "cell_type": "markdown",
   "metadata": {},
   "source": [
    "Considering that we have used only one curve as discounting and forecasting, we will now add a second curve for forecasting."
   ]
  },
  {
   "cell_type": "code",
   "execution_count": 6,
   "metadata": {},
   "outputs": [],
   "source": [
    "ql.Settings.instance().evaluationDate = ql.Date(1, 1, 2022)\n",
    "\n",
    "# Similiar to the discount curve we declared previously\n",
    "forward_rates = [0.04, 0.05, 0.06]\n",
    "forward_curve = ql.ForwardCurve(dates, forward_rates, day_counter)\n",
    "forward_handle = ql.YieldTermStructureHandle(forward_curve)"
   ]
  },
  {
   "cell_type": "code",
   "execution_count": 7,
   "metadata": {},
   "outputs": [],
   "source": [
    "# Create a new index that uses the forward curve for forecasting\n",
    "custom_forward_index= ql.IborIndex(\n",
    "    \"MyIndex\",\n",
    "    ql.Period(\"3m\"),\n",
    "    0,\n",
    "    ql.SEKCurrency(),\n",
    "    ql.Sweden(),\n",
    "    ql.ModifiedFollowing,\n",
    "    False,\n",
    "    ql.Actual360(),\n",
    "    forward_handle, # Previously was set to discount_handle\n",
    ")"
   ]
  },
  {
   "cell_type": "code",
   "execution_count": 8,
   "metadata": {},
   "outputs": [
    {
     "name": "stdout",
     "output_type": "stream",
     "text": [
      "25171.79621353972\n"
     ]
    }
   ],
   "source": [
    "# Define a new ibor_leg & cap that uses the new index with forward estimation\n",
    "ibor_leg_forward = ql.IborLeg([1e6], schedule, custom_forward_index) \n",
    "cap_forward = ql.Cap(ibor_leg_forward, strike)\n",
    "\n",
    "# Input our discounting and forecasting curve together with our volatility surface to the engine\n",
    "engine_forward = ql.BlackCapFloorEngine(discount_handle, volatility)\n",
    "cap_forward.setPricingEngine(engine_forward)\n",
    "print(cap_forward.NPV())"
   ]
  },
  {
   "cell_type": "code",
   "execution_count": 9,
   "metadata": {},
   "outputs": [
    {
     "data": {
      "text/html": [
       "<div>\n",
       "<style scoped>\n",
       "    .dataframe tbody tr th:only-of-type {\n",
       "        vertical-align: middle;\n",
       "    }\n",
       "\n",
       "    .dataframe tbody tr th {\n",
       "        vertical-align: top;\n",
       "    }\n",
       "\n",
       "    .dataframe thead th {\n",
       "        text-align: right;\n",
       "    }\n",
       "</style>\n",
       "<table border=\"1\" class=\"dataframe\">\n",
       "  <thead>\n",
       "    <tr style=\"text-align: right;\">\n",
       "      <th></th>\n",
       "      <th>price</th>\n",
       "      <th>discount_factor</th>\n",
       "      <th>cap_rate</th>\n",
       "      <th>atm_forward</th>\n",
       "      <th>std_dev</th>\n",
       "      <th>accrual_start</th>\n",
       "      <th>accrual_end</th>\n",
       "    </tr>\n",
       "  </thead>\n",
       "  <tbody>\n",
       "    <tr>\n",
       "      <th>0</th>\n",
       "      <td>6132.002083</td>\n",
       "      <td>0.991254</td>\n",
       "      <td>0.025</td>\n",
       "      <td>0.050307</td>\n",
       "      <td>0.037012</td>\n",
       "      <td>January 3rd, 2022</td>\n",
       "      <td>April 1st, 2022</td>\n",
       "    </tr>\n",
       "    <tr>\n",
       "      <th>1</th>\n",
       "      <td>6289.142138</td>\n",
       "      <td>0.982488</td>\n",
       "      <td>0.025</td>\n",
       "      <td>0.050317</td>\n",
       "      <td>0.248282</td>\n",
       "      <td>April 1st, 2022</td>\n",
       "      <td>July 1st, 2022</td>\n",
       "    </tr>\n",
       "    <tr>\n",
       "      <th>2</th>\n",
       "      <td>6465.774497</td>\n",
       "      <td>0.973515</td>\n",
       "      <td>0.025</td>\n",
       "      <td>0.050328</td>\n",
       "      <td>0.352097</td>\n",
       "      <td>July 1st, 2022</td>\n",
       "      <td>October 3rd, 2022</td>\n",
       "    </tr>\n",
       "    <tr>\n",
       "      <th>3</th>\n",
       "      <td>6284.877495</td>\n",
       "      <td>0.964931</td>\n",
       "      <td>0.025</td>\n",
       "      <td>0.050429</td>\n",
       "      <td>0.434000</td>\n",
       "      <td>October 3rd, 2022</td>\n",
       "      <td>January 2nd, 2023</td>\n",
       "    </tr>\n",
       "  </tbody>\n",
       "</table>\n",
       "</div>"
      ],
      "text/plain": [
       "         price  discount_factor  cap_rate  atm_forward   std_dev  \\\n",
       "0  6132.002083         0.991254     0.025     0.050307  0.037012   \n",
       "1  6289.142138         0.982488     0.025     0.050317  0.248282   \n",
       "2  6465.774497         0.973515     0.025     0.050328  0.352097   \n",
       "3  6284.877495         0.964931     0.025     0.050429  0.434000   \n",
       "\n",
       "       accrual_start        accrual_end  \n",
       "0  January 3rd, 2022    April 1st, 2022  \n",
       "1    April 1st, 2022     July 1st, 2022  \n",
       "2     July 1st, 2022  October 3rd, 2022  \n",
       "3  October 3rd, 2022  January 2nd, 2023  "
      ]
     },
     "execution_count": 9,
     "metadata": {},
     "output_type": "execute_result"
    }
   ],
   "source": [
    "schedule_dates = schedule.dates()\n",
    "display_result(cap_forward)"
   ]
  },
  {
   "cell_type": "markdown",
   "metadata": {},
   "source": [
    "The last step is to consider to have a full volatility surface instead of a constant one."
   ]
  },
  {
   "cell_type": "code",
   "execution_count": 10,
   "metadata": {},
   "outputs": [
    {
     "name": "stdout",
     "output_type": "stream",
     "text": [
      "25340.288918668186\n"
     ]
    }
   ],
   "source": [
    "# Set the settlement day of the volatility surface\n",
    "settlementDays = 0\n",
    "\n",
    "# Define the expiries for the volatility surface\n",
    "expiries = [ql.Period(\"3M\"), ql.Period(\"6M\"), ql.Period(\"9M\"), ql.Period(\"1Y\")]\n",
    "\n",
    "# Define the strikes for the volatility surface\n",
    "strikes = [0.010, 0.025, 0.03]\n",
    "\n",
    "# Define the market quotes for the volatility surface\n",
    "black_volatility = [[0.98, 0.792, 0.6873], [0.9301, 0.7401, 0.6403], [0.7926, 0.6424, 0.5602], [0.7126, 0.6024, 0.4902]]\n",
    "\n",
    "# Create a new volatility surface\n",
    "volatility_surface = ql.CapFloorTermVolSurface(\n",
    "    settlementDays,\n",
    "    ql.Sweden(),\n",
    "    ql.ModifiedFollowing,\n",
    "    expiries,\n",
    "    strikes,\n",
    "    black_volatility,\n",
    "    day_counter,\n",
    ")\n",
    "# Strip the volatility surface for optionlets (caplets) as the input is based on caps\n",
    "optionlet_surf = ql.OptionletStripper1(volatility_surface, custom_forward_index)\n",
    "\n",
    "# Call strippedOptionletAdapter to create a handle for the volatility surface\n",
    "ovs_handle = ql.OptionletVolatilityStructureHandle(\n",
    "    ql.StrippedOptionletAdapter(optionlet_surf)\n",
    ")\n",
    "\n",
    "cap_volatility = ql.Cap(ibor_leg_forward, strike)\n",
    "# Input our discounting and forecasting curve together with our volatility surface to the engine\n",
    "engine_volatility = ql.BlackCapFloorEngine(discount_handle, ovs_handle)\n",
    "cap_volatility.setPricingEngine(engine_volatility)\n",
    "print(cap_volatility.NPV())"
   ]
  },
  {
   "cell_type": "code",
   "execution_count": 11,
   "metadata": {},
   "outputs": [
    {
     "data": {
      "text/html": [
       "<div>\n",
       "<style scoped>\n",
       "    .dataframe tbody tr th:only-of-type {\n",
       "        vertical-align: middle;\n",
       "    }\n",
       "\n",
       "    .dataframe tbody tr th {\n",
       "        vertical-align: top;\n",
       "    }\n",
       "\n",
       "    .dataframe thead th {\n",
       "        text-align: right;\n",
       "    }\n",
       "</style>\n",
       "<table border=\"1\" class=\"dataframe\">\n",
       "  <thead>\n",
       "    <tr style=\"text-align: right;\">\n",
       "      <th></th>\n",
       "      <th>price</th>\n",
       "      <th>discount_factor</th>\n",
       "      <th>cap_rate</th>\n",
       "      <th>atm_forward</th>\n",
       "      <th>std_dev</th>\n",
       "      <th>accrual_start</th>\n",
       "      <th>accrual_end</th>\n",
       "    </tr>\n",
       "  </thead>\n",
       "  <tbody>\n",
       "    <tr>\n",
       "      <th>0</th>\n",
       "      <td>6132.002083</td>\n",
       "      <td>0.991254</td>\n",
       "      <td>0.025</td>\n",
       "      <td>0.050307</td>\n",
       "      <td>0.000000</td>\n",
       "      <td>January 3rd, 2022</td>\n",
       "      <td>April 1st, 2022</td>\n",
       "    </tr>\n",
       "    <tr>\n",
       "      <th>1</th>\n",
       "      <td>6325.268247</td>\n",
       "      <td>0.982488</td>\n",
       "      <td>0.025</td>\n",
       "      <td>0.050317</td>\n",
       "      <td>0.372127</td>\n",
       "      <td>April 1st, 2022</td>\n",
       "      <td>July 1st, 2022</td>\n",
       "    </tr>\n",
       "    <tr>\n",
       "      <th>2</th>\n",
       "      <td>6526.008974</td>\n",
       "      <td>0.973515</td>\n",
       "      <td>0.025</td>\n",
       "      <td>0.050328</td>\n",
       "      <td>0.434983</td>\n",
       "      <td>July 1st, 2022</td>\n",
       "      <td>October 3rd, 2022</td>\n",
       "    </tr>\n",
       "    <tr>\n",
       "      <th>3</th>\n",
       "      <td>6357.009614</td>\n",
       "      <td>0.964931</td>\n",
       "      <td>0.025</td>\n",
       "      <td>0.050429</td>\n",
       "      <td>0.500385</td>\n",
       "      <td>October 3rd, 2022</td>\n",
       "      <td>January 2nd, 2023</td>\n",
       "    </tr>\n",
       "  </tbody>\n",
       "</table>\n",
       "</div>"
      ],
      "text/plain": [
       "         price  discount_factor  cap_rate  atm_forward   std_dev  \\\n",
       "0  6132.002083         0.991254     0.025     0.050307  0.000000   \n",
       "1  6325.268247         0.982488     0.025     0.050317  0.372127   \n",
       "2  6526.008974         0.973515     0.025     0.050328  0.434983   \n",
       "3  6357.009614         0.964931     0.025     0.050429  0.500385   \n",
       "\n",
       "       accrual_start        accrual_end  \n",
       "0  January 3rd, 2022    April 1st, 2022  \n",
       "1    April 1st, 2022     July 1st, 2022  \n",
       "2     July 1st, 2022  October 3rd, 2022  \n",
       "3  October 3rd, 2022  January 2nd, 2023  "
      ]
     },
     "execution_count": 11,
     "metadata": {},
     "output_type": "execute_result"
    }
   ],
   "source": [
    "display_result(cap_volatility)"
   ]
  },
  {
   "cell_type": "markdown",
   "metadata": {},
   "source": [
    "使用Hagan方法定价二元"
   ]
  },
  {
   "cell_type": "code",
   "execution_count": 12,
   "metadata": {},
   "outputs": [
    {
     "name": "stdout",
     "output_type": "stream",
     "text": [
      "February 4th, 2025\n"
     ]
    }
   ],
   "source": [
    "calendar = ql.TARGET()\n",
    "referenceDate = calendar.adjust(ql.Date.todaysDate())\n",
    "print(referenceDate)\n",
    "ql.Settings.instance().evaluationDate = referenceDate\n",
    "\n",
    "volQuote = ql.QuoteHandle(ql.SimpleQuote(0.2))\n",
    "swaptionVol = ql.ConstantSwaptionVolatility(0, ql.TARGET(), ql.ModifiedFollowing, volQuote, ql.Actual365Fixed())\n",
    "swvol_handle = ql.SwaptionVolatilityStructureHandle(swaptionVol)\n",
    "\n",
    "mean_reversion = ql.QuoteHandle(ql.SimpleQuote(0.01))\n",
    "cms_pricer = ql.LinearTsrPricer(swvol_handle, mean_reversion)\n",
    "\n",
    "swaptionVolatilityStructure = ql.SwaptionVolatilityStructureHandle(ql.ConstantSwaptionVolatility(referenceDate, calendar, ql.ModifiedFollowing,\n",
    "                                           volQuote, ql.Actual365Fixed()))\n",
    "cmspricer = ql.AnalyticHaganPricer(swaptionVolatilityStructure, ql.GFunctionFactory.Standard, mean_reversion)"
   ]
  },
  {
   "cell_type": "markdown",
   "metadata": {},
   "source": [
    "CMS定价参数"
   ]
  },
  {
   "cell_type": "code",
   "execution_count": 13,
   "metadata": {},
   "outputs": [
    {
     "name": "stdout",
     "output_type": "stream",
     "text": [
      "<QuantLib.QuantLib.RelinkableYieldTermStructureHandle; proxy of <Swig Object of type 'RelinkableHandle< YieldTermStructure > *' at 0x000001FBF41ECB70> >\n",
      "Euribor6M Actual/360 index\n",
      "0.008875443635088775\n"
     ]
    }
   ],
   "source": [
    "termStructure = ql.RelinkableYieldTermStructureHandle()\n",
    "termStructure.linkTo(ql.FlatForward(referenceDate, 0.05, ql.Actual365Fixed()))\n",
    "print(termStructure)\n",
    "# termStructure.plot()\n",
    "\n",
    "iborIndex = ql.Euribor6M(termStructure)\n",
    "print(iborIndex)\n",
    "swapIndex = ql.EuriborSwapIsdaFixA(ql.Period(10, ql.Years), iborIndex.forwardingTermStructure())\n",
    "startDate = termStructure.referenceDate() + ql.Period(2, ql.Years)\n",
    "paymentDate = startDate + ql.Period(6, ql.Months)\n",
    "endDate = paymentDate\n",
    "nominal = 1.0\n",
    "infiniteCap = ql.nullDouble()\n",
    "infiniteFloor = ql.nullDouble()\n",
    "gearing = 1.0\n",
    "spread = 0.0\n",
    "discount = termStructure.discount(paymentDate)\n",
    "k = 0.02\n",
    "# k = 0.07\n",
    "\n",
    "caplet = ql.CappedFlooredCmsCoupon(paymentDate, nominal,\n",
    "                                            startDate, endDate,\n",
    "                                            swapIndex.fixingDays(),\n",
    "                                            swapIndex,\n",
    "                                            gearing, spread,\n",
    "                                            k, infiniteFloor,\n",
    "                                            startDate, endDate,\n",
    "                                            iborIndex.dayCounter())\n",
    "\n",
    "caplet.setPricer(cmspricer)\n",
    "capletPrice = caplet.price(termStructure)\n",
    "# apletPrice = caplet.rate()\n",
    "print(capletPrice)"
   ]
  },
  {
   "cell_type": "markdown",
   "metadata": {},
   "source": [
    "使用black 76进行定价"
   ]
  },
  {
   "cell_type": "code",
   "execution_count": 28,
   "metadata": {
    "scrolled": true
   },
   "outputs": [
    {
     "name": "stdout",
     "output_type": "stream",
     "text": [
      "Caplet 价格（Black 76）: 0.026413\n",
      "Caplet 价格（Hagan Approximation）: 0.008875\n",
      "Forward Rate: 0.049935\n",
      "Discount Factor: 0.882678\n",
      "Swaption Volatility: 0.2\n",
      "Forward Swap Rate: 0.0513135054864824\n",
      "Caplet Rate (Before Pricer): 0.01999915138485838\n",
      "Caplet Rate (After Pricer): 0.01999915138485838\n",
      "Hagan Caplet Price: 0.008875443635088775\n",
      "Caplet Rate Before Pricer: 0.01999915138485838\n",
      "Caplet Rate After Pricer: 0.01999915138485838\n",
      "Hagan Caplet Price: 0.008875443635088775\n",
      "Direct CMS Pricer Price: 0.02319593260928888\n",
      "Mean Reversion: 0.001 -> Caplet 价格（Hagan Approximation）: 0.008875\n",
      "Mean Reversion: 0.005 -> Caplet 价格（Hagan Approximation）: 0.008875\n",
      "Mean Reversion: 0.010 -> Caplet 价格（Hagan Approximation）: 0.008875\n",
      "Mean Reversion: 0.020 -> Caplet 价格（Hagan Approximation）: 0.008875\n"
     ]
    }
   ],
   "source": [
    "import QuantLib as ql\n",
    "import math\n",
    "import scipy.stats as st\n",
    "\n",
    "# === 1. 设定市场环境 ===\n",
    "calendar = ql.TARGET()\n",
    "referenceDate = ql.Date.todaysDate()\n",
    "ql.Settings.instance().evaluationDate = referenceDate\n",
    "\n",
    "# 贴现曲线（5% 平坦曲线）\n",
    "discountCurve = ql.YieldTermStructureHandle(\n",
    "    ql.FlatForward(referenceDate, ql.QuoteHandle(ql.SimpleQuote(0.05)), ql.Actual365Fixed())\n",
    ")\n",
    "\n",
    "# === 2. 定义 Caplet 参数 ===\n",
    "fixingDate = referenceDate + ql.Period(2, ql.Years)  # 2 年后\n",
    "paymentDate = fixingDate + ql.Period(6, ql.Months)  # 付款日期\n",
    "nominal = 1.0  # 名义本金\n",
    "strike = 0.02  # 执行利率 2%\n",
    "volatility = 0.20  # 20% 波动率\n",
    "meanReversion = 0.005  # Hagan 方法需要的均值回归参数\n",
    "mean_reversion = ql.QuoteHandle(ql.SimpleQuote(meanReversion))\n",
    "\n",
    "# 创建 IBOR 指数\n",
    "iborIndex = ql.Euribor6M(discountCurve)\n",
    "forwardRate = iborIndex.fixing(fixingDate)\n",
    "\n",
    "\n",
    "\n",
    "# === 3. 计算 Black 76 Caplet 价格 ===\n",
    "T = ql.Actual365Fixed().yearFraction(referenceDate, fixingDate)\n",
    "stdDev = volatility * (T ** 0.5)\n",
    "d1 = (math.log(forwardRate / strike) + 0.5 * stdDev**2) / stdDev\n",
    "d2 = d1 - stdDev\n",
    "Nd1 = st.norm.cdf(d1)  # N(d1)\n",
    "discountFactor = discountCurve.discount(paymentDate)\n",
    "caplet_price_black76 = discountFactor * nominal * Nd1 * (forwardRate - strike)\n",
    "\n",
    "\n",
    "# === 4. 计算 Hagan Approximation Caplet 价格 ===\n",
    "swapIndex = ql.EuriborSwapIsdaFixA(ql.Period(10, ql.Years), iborIndex.forwardingTermStructure())\n",
    "\n",
    "caplet = ql.CappedFlooredCmsCoupon(paymentDate, nominal,\n",
    "                                   fixingDate, paymentDate,\n",
    "                                   swapIndex.fixingDays(),\n",
    "                                   swapIndex,\n",
    "                                   1.0, 0.0,  # Gearing = 1, Spread = 0\n",
    "                                   strike, ql.nullDouble(),\n",
    "                                   fixingDate, paymentDate,\n",
    "                                   iborIndex.dayCounter())\n",
    "\n",
    "# Hagan 方法需要 Swaption Volatility 结构\n",
    "swaptionVolHandle = ql.SwaptionVolatilityStructureHandle(\n",
    "    ql.ConstantSwaptionVolatility(referenceDate, calendar, ql.ModifiedFollowing,\n",
    "                                  ql.QuoteHandle(ql.SimpleQuote(volatility)),\n",
    "                                  ql.Actual365Fixed())\n",
    ")\n",
    "\n",
    "cmsPricer = ql.AnalyticHaganPricer(swaptionVolHandle, ql.GFunctionFactory.Standard, mean_reversion)  # 均值回归参数\n",
    "# cms_pricer = ql.LinearTsrPricer(swaptionVolHandle, mean_reversion)\n",
    "# cmsPricer.setSwaptionVolatility(swaptionVolHandle)\n",
    "caplet.setPricer(cmsPricer)\n",
    "caplet_price_hagan = caplet.price(discountCurve)\n",
    "\n",
    "# === 5. 结果对比 ===\n",
    "print(f\"Caplet 价格（Black 76）: {caplet_price_black76:.6f}\")\n",
    "print(f\"Caplet 价格（Hagan Approximation）: {caplet_price_hagan:.6f}\")\n",
    "\n",
    "# === 6. 参数核对 ===\n",
    "print(f\"Forward Rate: {forwardRate:.6f}\")\n",
    "print(f\"Discount Factor: {discountFactor:.6f}\")\n",
    "print(f\"Swaption Volatility: {swaptionVolHandle.volatility(2.0, 10.0, 0.02)}\")\n",
    "print(f\"Forward Swap Rate: {swapIndex.fixing(referenceDate + ql.Period(2, ql.Years))}\")\n",
    "\n",
    "print(f\"Caplet Rate (Before Pricer): {caplet.rate()}\")\n",
    "\n",
    "caplet.setPricer(None)  # 重置 Pricer\n",
    "caplet.setPricer(cmsPricer)  # 重新设置 Hagan Pricer\n",
    "\n",
    "print(f\"Caplet Rate (After Pricer): {caplet.rate()}\")\n",
    "\n",
    "caplet_price_hagan = caplet.price(termStructure)\n",
    "print(f\"Hagan Caplet Price: {caplet_price_hagan}\")\n",
    "\n",
    "print(f\"Caplet Rate Before Pricer: {caplet.rate()}\")\n",
    "\n",
    "caplet.setPricer(None)  # 先重置 Pricer\n",
    "caplet.setPricer(cmsPricer)  # 重新设置 Hagan Pricer\n",
    "\n",
    "print(f\"Caplet Rate After Pricer: {caplet.rate()}\")\n",
    "caplet_price_hagan = caplet.price(termStructure)\n",
    "print(f\"Hagan Caplet Price: {caplet_price_hagan}\")\n",
    "\n",
    "price_direct = cmsPricer.swapletPrice()\n",
    "print(f\"Direct CMS Pricer Price: {price_direct}\")\n",
    "\n",
    "for meanReversion in [0.001, 0.005, 0.01, 0.02]:\n",
    "    cmsPricer = ql.AnalyticHaganPricer(\n",
    "        swaptionVolHandle,\n",
    "        ql.GFunctionFactory.Standard,\n",
    "        ql.QuoteHandle(ql.SimpleQuote(meanReversion))\n",
    "    )\n",
    "    caplet.setPricer(cmsPricer)\n",
    "    caplet_price_hagan = caplet.price(discountCurve)\n",
    "    print(f\"Mean Reversion: {meanReversion:.3f} -> Caplet 价格（Hagan Approximation）: {caplet_price_hagan:.6f}\")\n"
   ]
  },
  {
   "cell_type": "code",
   "execution_count": 29,
   "metadata": {},
   "outputs": [
    {
     "ename": "TypeError",
     "evalue": "Wrong number or type of arguments for overloaded function 'new_OptionletVolatilityStructureHandle'.\n  Possible C/C++ prototypes are:\n    Handle< OptionletVolatilityStructure >::Handle(ext::shared_ptr< OptionletVolatilityStructure > const &)\n    Handle< OptionletVolatilityStructure >::Handle()\n",
     "output_type": "error",
     "traceback": [
      "\u001b[1;31m---------------------------------------------------------------------------\u001b[0m",
      "\u001b[1;31mTypeError\u001b[0m                                 Traceback (most recent call last)",
      "\u001b[1;32m<ipython-input-29-3c926d670326>\u001b[0m in \u001b[0;36m<module>\u001b[1;34m\u001b[0m\n\u001b[0;32m     33\u001b[0m \u001b[1;33m\u001b[0m\u001b[0m\n\u001b[0;32m     34\u001b[0m \u001b[1;31m# ✅ **正确绑定 Black76 定价引擎**\u001b[0m\u001b[1;33m\u001b[0m\u001b[1;33m\u001b[0m\u001b[1;33m\u001b[0m\u001b[0m\n\u001b[1;32m---> 35\u001b[1;33m \u001b[0mblack76Engine\u001b[0m \u001b[1;33m=\u001b[0m \u001b[0mql\u001b[0m\u001b[1;33m.\u001b[0m\u001b[0mBlackCapFloorEngine\u001b[0m\u001b[1;33m(\u001b[0m\u001b[0mtermStructure\u001b[0m\u001b[1;33m,\u001b[0m \u001b[0mql\u001b[0m\u001b[1;33m.\u001b[0m\u001b[0mOptionletVolatilityStructureHandle\u001b[0m\u001b[1;33m(\u001b[0m\u001b[0mblackVol\u001b[0m\u001b[1;33m)\u001b[0m\u001b[1;33m)\u001b[0m\u001b[1;33m\u001b[0m\u001b[1;33m\u001b[0m\u001b[0m\n\u001b[0m\u001b[0;32m     36\u001b[0m \u001b[0mcaplet\u001b[0m\u001b[1;33m.\u001b[0m\u001b[0msetPricingEngine\u001b[0m\u001b[1;33m(\u001b[0m\u001b[0mblack76Engine\u001b[0m\u001b[1;33m)\u001b[0m\u001b[1;33m\u001b[0m\u001b[1;33m\u001b[0m\u001b[0m\n\u001b[0;32m     37\u001b[0m \u001b[1;33m\u001b[0m\u001b[0m\n",
      "\u001b[1;32mD:\\Anaconda3\\lib\\site-packages\\QuantLib\\QuantLib.py\u001b[0m in \u001b[0;36m__init__\u001b[1;34m(self, *args)\u001b[0m\n\u001b[0;32m  11774\u001b[0m     \u001b[1;32mdef\u001b[0m \u001b[0m__init__\u001b[0m\u001b[1;33m(\u001b[0m\u001b[0mself\u001b[0m\u001b[1;33m,\u001b[0m \u001b[1;33m*\u001b[0m\u001b[0margs\u001b[0m\u001b[1;33m)\u001b[0m\u001b[1;33m:\u001b[0m\u001b[1;33m\u001b[0m\u001b[1;33m\u001b[0m\u001b[0m\n\u001b[0;32m  11775\u001b[0m         \u001b[1;34mr\"\"\"__init__(OptionletVolatilityStructureHandle self, ext::shared_ptr< OptionletVolatilityStructure > const & arg2=ext::shared_ptr()) -> OptionletVolatilityStructureHandle\"\"\"\u001b[0m\u001b[1;33m\u001b[0m\u001b[1;33m\u001b[0m\u001b[0m\n\u001b[1;32m> 11776\u001b[1;33m         \u001b[0m_QuantLib\u001b[0m\u001b[1;33m.\u001b[0m\u001b[0mOptionletVolatilityStructureHandle_swiginit\u001b[0m\u001b[1;33m(\u001b[0m\u001b[0mself\u001b[0m\u001b[1;33m,\u001b[0m \u001b[0m_QuantLib\u001b[0m\u001b[1;33m.\u001b[0m\u001b[0mnew_OptionletVolatilityStructureHandle\u001b[0m\u001b[1;33m(\u001b[0m\u001b[1;33m*\u001b[0m\u001b[0margs\u001b[0m\u001b[1;33m)\u001b[0m\u001b[1;33m)\u001b[0m\u001b[1;33m\u001b[0m\u001b[1;33m\u001b[0m\u001b[0m\n\u001b[0m\u001b[0;32m  11777\u001b[0m \u001b[1;33m\u001b[0m\u001b[0m\n\u001b[0;32m  11778\u001b[0m     \u001b[1;32mdef\u001b[0m \u001b[0m__deref__\u001b[0m\u001b[1;33m(\u001b[0m\u001b[0mself\u001b[0m\u001b[1;33m)\u001b[0m\u001b[1;33m:\u001b[0m\u001b[1;33m\u001b[0m\u001b[1;33m\u001b[0m\u001b[0m\n",
      "\u001b[1;31mTypeError\u001b[0m: Wrong number or type of arguments for overloaded function 'new_OptionletVolatilityStructureHandle'.\n  Possible C/C++ prototypes are:\n    Handle< OptionletVolatilityStructure >::Handle(ext::shared_ptr< OptionletVolatilityStructure > const &)\n    Handle< OptionletVolatilityStructure >::Handle()\n"
     ]
    }
   ],
   "source": [
    "import QuantLib as ql\n",
    "\n",
    "# 设置日期\n",
    "calendar = ql.TARGET()\n",
    "referenceDate = calendar.adjust(ql.Date.todaysDate())\n",
    "ql.Settings.instance().evaluationDate = referenceDate\n",
    "\n",
    "# 创建贴现曲线\n",
    "discountRate = 0.05\n",
    "termStructure = ql.YieldTermStructureHandle(\n",
    "    ql.FlatForward(referenceDate, ql.QuoteHandle(ql.SimpleQuote(discountRate)), ql.Actual365Fixed())\n",
    ")\n",
    "\n",
    "# 设置 Black 76 波动率\n",
    "volatility = 0.2  # 20% Swaption Volatility\n",
    "volHandle = ql.QuoteHandle(ql.SimpleQuote(volatility))\n",
    "blackVol = ql.BlackConstantVol(referenceDate, calendar, volHandle, ql.Actual365Fixed())\n",
    "\n",
    "# 选择 IBOR Index\n",
    "iborIndex = ql.Euribor6M(termStructure)\n",
    "\n",
    "# 设定 Caplet 参数\n",
    "startDate = referenceDate + ql.Period(1, ql.Years)\n",
    "paymentDate = startDate + ql.Period(6, ql.Months)\n",
    "strike = 0.02  # Caplet Strike Rate\n",
    "nominal = 1.0  # 名义本金\n",
    "\n",
    "# ✅ **正确创建 Caplet**\n",
    "caplet = ql.Cap(\n",
    "    [ql.IborCoupon(paymentDate, nominal, startDate, paymentDate, iborIndex.fixingDays(), iborIndex, 1.0, 0.0)],\n",
    "    [strike]\n",
    ")\n",
    "\n",
    "# ✅ **正确绑定 Black76 定价引擎**\n",
    "black76Engine = ql.BlackCapFloorEngine(termStructure, ql.OptionletVolatilityStructureHandle(blackVol))\n",
    "caplet.setPricingEngine(black76Engine)\n",
    "\n",
    "# 计算 Caplet 价格\n",
    "caplet_price = caplet.NPV()\n",
    "print(f\"Caplet Price (Black 76): {caplet_price}\")\n"
   ]
  }
 ],
 "metadata": {
  "kernelspec": {
   "display_name": "PyCharm (vol_data_anal)",
   "language": "python",
   "name": "pycharm-a529859f"
  },
  "language_info": {
   "codemirror_mode": {
    "name": "ipython",
    "version": 3
   },
   "file_extension": ".py",
   "mimetype": "text/x-python",
   "name": "python",
   "nbconvert_exporter": "python",
   "pygments_lexer": "ipython3",
   "version": "3.7.6"
  }
 },
 "nbformat": 4,
 "nbformat_minor": 2
}
